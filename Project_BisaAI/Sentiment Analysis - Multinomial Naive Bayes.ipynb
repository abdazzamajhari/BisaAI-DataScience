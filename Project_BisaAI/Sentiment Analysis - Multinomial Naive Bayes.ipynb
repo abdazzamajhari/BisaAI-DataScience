{
 "cells": [
  {
   "cell_type": "markdown",
   "id": "3a362493",
   "metadata": {},
   "source": [
    "# Project Data Science BisaAI"
   ]
  },
  {
   "cell_type": "markdown",
   "id": "4e46e839",
   "metadata": {},
   "source": [
    "Dataset tersebut merupakan data terkait ulasan pelanggan atau user terhadap aplikasi BISA AI di PlayStore, dimana untuk review star 1 dan 2 dapat dikatakan sebagai ulasan negatif, review star 3 netral, dan review star 4 dan 5 positif"
   ]
  },
  {
   "cell_type": "code",
   "execution_count": 1,
   "id": "d9bcd3ed",
   "metadata": {},
   "outputs": [
    {
     "data": {
      "text/html": [
       "<div>\n",
       "<style scoped>\n",
       "    .dataframe tbody tr th:only-of-type {\n",
       "        vertical-align: middle;\n",
       "    }\n",
       "\n",
       "    .dataframe tbody tr th {\n",
       "        vertical-align: top;\n",
       "    }\n",
       "\n",
       "    .dataframe thead th {\n",
       "        text-align: right;\n",
       "    }\n",
       "</style>\n",
       "<table border=\"1\" class=\"dataframe\">\n",
       "  <thead>\n",
       "    <tr style=\"text-align: right;\">\n",
       "      <th></th>\n",
       "      <th>star_rating</th>\n",
       "      <th>text_review</th>\n",
       "    </tr>\n",
       "  </thead>\n",
       "  <tbody>\n",
       "    <tr>\n",
       "      <th>0</th>\n",
       "      <td>5</td>\n",
       "      <td>working well, good job bisa ai</td>\n",
       "    </tr>\n",
       "    <tr>\n",
       "      <th>1</th>\n",
       "      <td>5</td>\n",
       "      <td>Bisa AI Academy</td>\n",
       "    </tr>\n",
       "    <tr>\n",
       "      <th>2</th>\n",
       "      <td>5</td>\n",
       "      <td>great application to learning 😁</td>\n",
       "    </tr>\n",
       "    <tr>\n",
       "      <th>3</th>\n",
       "      <td>5</td>\n",
       "      <td>NaN</td>\n",
       "    </tr>\n",
       "    <tr>\n",
       "      <th>4</th>\n",
       "      <td>5</td>\n",
       "      <td>Great app, easy to use</td>\n",
       "    </tr>\n",
       "  </tbody>\n",
       "</table>\n",
       "</div>"
      ],
      "text/plain": [
       "   star_rating                      text_review\n",
       "0            5   working well, good job bisa ai\n",
       "1            5                  Bisa AI Academy\n",
       "2            5  great application to learning 😁\n",
       "3            5                              NaN\n",
       "4            5           Great app, easy to use"
      ]
     },
     "execution_count": 1,
     "metadata": {},
     "output_type": "execute_result"
    }
   ],
   "source": [
    "import pandas as pd\n",
    "\n",
    "colnames=['package_name', 'app_version_code', 'app_version_name', 'reviewer_language', 'device', \n",
    "          'date_review_submit', 'millis_review_submit', 'date_review_update', 'millis_review_update', \n",
    "          'star_rating', 'title_review', 'text_review', 'date_developer_reply', 'millis_developer_reply', \n",
    "          'text_developer_reply', 'link_review'] \n",
    "\n",
    "df1 = pd.read_csv('dataset/reviews_reviews_com.pos.bisaaiacademy_202007.csv', \n",
    "                  names=colnames, usecols=[\"text_review\", \"star_rating\"], \n",
    "                  header=None, encoding = \"UTF-16\", delimiter='\\t', skiprows=1)\n",
    "df2 = pd.read_csv('dataset/reviews_reviews_com.pos.bisaaiacademy_202008.csv', \n",
    "                  names=colnames, usecols=[\"text_review\", \"star_rating\"], \n",
    "                  header=None, encoding = \"UTF-16\", delimiter='\\t', skiprows=1)\n",
    "df3 = pd.read_csv('dataset/reviews_reviews_com.pos.bisaaiacademy_202009.csv', \n",
    "                  names=colnames, usecols=[\"text_review\", \"star_rating\"], \n",
    "                  header=None, encoding = \"UTF-16\", delimiter='\\t', skiprows=1)\n",
    "df4 = pd.read_csv('dataset/reviews_reviews_com.pos.bisaaiacademy_202010.csv', \n",
    "                  names=colnames, usecols=[\"text_review\", \"star_rating\"], \n",
    "                  header=None, encoding = \"UTF-16\", delimiter='\\t', skiprows=1)\n",
    "df5 = pd.read_csv('dataset/reviews_reviews_com.pos.bisaaiacademy_202011.csv', \n",
    "                  names=colnames, usecols=[\"text_review\", \"star_rating\"], \n",
    "                  header=None, encoding = \"UTF-16\", delimiter='\\t', skiprows=1)\n",
    "df6 = pd.read_csv('dataset/reviews_reviews_com.pos.bisaaiacademy_202012.csv', \n",
    "                  names=colnames, usecols=[\"text_review\", \"star_rating\"], \n",
    "                  header=None, encoding = \"UTF-16\", delimiter='\\t', skiprows=1)\n",
    "\n",
    "df7 = pd.read_csv('dataset/reviews_reviews_com.pos.bisaaiacademy_202101.csv', \n",
    "                  names=colnames, usecols=[\"text_review\", \"star_rating\"], \n",
    "                  header=None, encoding = \"UTF-16\", delimiter='\\t', skiprows=1)\n",
    "df8 = pd.read_csv('dataset/reviews_reviews_com.pos.bisaaiacademy_202102.csv', \n",
    "                  names=colnames, usecols=[\"text_review\", \"star_rating\"], \n",
    "                  header=None, encoding = \"UTF-16\", delimiter='\\t', skiprows=1)\n",
    "df9 = pd.read_csv('dataset/reviews_reviews_com.pos.bisaaiacademy_202104.csv', \n",
    "                  names=colnames, usecols=[\"text_review\", \"star_rating\"], \n",
    "                  header=None, encoding = \"UTF-16\", delimiter='\\t', skiprows=1)\n",
    "df10 = pd.read_csv('dataset/reviews_reviews_com.pos.bisaaiacademy_202105.csv', \n",
    "                   names=colnames, usecols=[\"text_review\", \"star_rating\"], \n",
    "                   header=None, encoding = \"UTF-16\", delimiter='\\t', skiprows=1)\n",
    "df11 = pd.read_csv('dataset/reviews_reviews_com.pos.bisaaiacademy_202106.csv', \n",
    "                   names=colnames, usecols=[\"text_review\", \"star_rating\"], \n",
    "                   header=None, encoding = \"UTF-16\", delimiter='\\t', skiprows=1)\n",
    "df12 = pd.read_csv('dataset/reviews_reviews_com.pos.bisaaiacademy_202107.csv', \n",
    "                   names=colnames, usecols=[\"text_review\", \"star_rating\"], \n",
    "                   header=None, encoding = \"UTF-16\", delimiter='\\t', skiprows=1)\n",
    "# df13 = pd.read_csv('dataset/reviews_reviews_com.pos.bisaaiacademy_202108.csv', names=colnames, usecols=[\"text_review\", \"star_rating\"], header=None, encoding = \"UTF-16-LE\", delimiter='\\t', skiprows=1)\n",
    "\n",
    "\n",
    "df12.head()"
   ]
  },
  {
   "cell_type": "code",
   "execution_count": 2,
   "id": "c6063489",
   "metadata": {},
   "outputs": [
    {
     "data": {
      "text/html": [
       "<div>\n",
       "<style scoped>\n",
       "    .dataframe tbody tr th:only-of-type {\n",
       "        vertical-align: middle;\n",
       "    }\n",
       "\n",
       "    .dataframe tbody tr th {\n",
       "        vertical-align: top;\n",
       "    }\n",
       "\n",
       "    .dataframe thead th {\n",
       "        text-align: right;\n",
       "    }\n",
       "</style>\n",
       "<table border=\"1\" class=\"dataframe\">\n",
       "  <thead>\n",
       "    <tr style=\"text-align: right;\">\n",
       "      <th></th>\n",
       "      <th>star_rating</th>\n",
       "      <th>text_review</th>\n",
       "    </tr>\n",
       "  </thead>\n",
       "  <tbody>\n",
       "    <tr>\n",
       "      <th>0</th>\n",
       "      <td>5</td>\n",
       "      <td>Great apps. We can learn AI Online now</td>\n",
       "    </tr>\n",
       "    <tr>\n",
       "      <th>1</th>\n",
       "      <td>5</td>\n",
       "      <td>Sangat bermanfaat. Bisa belajar online sekaran...</td>\n",
       "    </tr>\n",
       "    <tr>\n",
       "      <th>2</th>\n",
       "      <td>5</td>\n",
       "      <td>Aplikasinya bagus dan sangat membantu pembelaj...</td>\n",
       "    </tr>\n",
       "    <tr>\n",
       "      <th>3</th>\n",
       "      <td>5</td>\n",
       "      <td>Great app! Has a very friendly user interface ...</td>\n",
       "    </tr>\n",
       "    <tr>\n",
       "      <th>4</th>\n",
       "      <td>5</td>\n",
       "      <td>sangat bagus untuk para pemula dan yang mau la...</td>\n",
       "    </tr>\n",
       "    <tr>\n",
       "      <th>...</th>\n",
       "      <td>...</td>\n",
       "      <td>...</td>\n",
       "    </tr>\n",
       "    <tr>\n",
       "      <th>75</th>\n",
       "      <td>5</td>\n",
       "      <td>Cukup bermanfaat dalam pelatihan saya dalam be...</td>\n",
       "    </tr>\n",
       "    <tr>\n",
       "      <th>76</th>\n",
       "      <td>5</td>\n",
       "      <td>Easy to use! Aplikasi yang sangat bagus diguna...</td>\n",
       "    </tr>\n",
       "    <tr>\n",
       "      <th>77</th>\n",
       "      <td>5</td>\n",
       "      <td>NaN</td>\n",
       "    </tr>\n",
       "    <tr>\n",
       "      <th>78</th>\n",
       "      <td>5</td>\n",
       "      <td>Aplikasi yang dapat mendukung belajar</td>\n",
       "    </tr>\n",
       "    <tr>\n",
       "      <th>79</th>\n",
       "      <td>4</td>\n",
       "      <td>Habis daftar kok nggk bisa login? Katanya suru...</td>\n",
       "    </tr>\n",
       "  </tbody>\n",
       "</table>\n",
       "<p>271 rows × 2 columns</p>\n",
       "</div>"
      ],
      "text/plain": [
       "    star_rating                                        text_review\n",
       "0             5             Great apps. We can learn AI Online now\n",
       "1             5  Sangat bermanfaat. Bisa belajar online sekaran...\n",
       "2             5  Aplikasinya bagus dan sangat membantu pembelaj...\n",
       "3             5  Great app! Has a very friendly user interface ...\n",
       "4             5  sangat bagus untuk para pemula dan yang mau la...\n",
       "..          ...                                                ...\n",
       "75            5  Cukup bermanfaat dalam pelatihan saya dalam be...\n",
       "76            5  Easy to use! Aplikasi yang sangat bagus diguna...\n",
       "77            5                                                NaN\n",
       "78            5              Aplikasi yang dapat mendukung belajar\n",
       "79            4  Habis daftar kok nggk bisa login? Katanya suru...\n",
       "\n",
       "[271 rows x 2 columns]"
      ]
     },
     "execution_count": 2,
     "metadata": {},
     "output_type": "execute_result"
    }
   ],
   "source": [
    "frames = [df1, df2, df3, df4, df5, df6, df7, df8, df9, df10, df11, df12]\n",
    "df = pd.concat(frames)\n",
    "\n",
    "df"
   ]
  },
  {
   "cell_type": "markdown",
   "id": "790e14ee",
   "metadata": {},
   "source": [
    "# Preprocessing"
   ]
  },
  {
   "cell_type": "code",
   "execution_count": 3,
   "id": "902e1b8c",
   "metadata": {},
   "outputs": [
    {
     "data": {
      "text/html": [
       "<div>\n",
       "<style scoped>\n",
       "    .dataframe tbody tr th:only-of-type {\n",
       "        vertical-align: middle;\n",
       "    }\n",
       "\n",
       "    .dataframe tbody tr th {\n",
       "        vertical-align: top;\n",
       "    }\n",
       "\n",
       "    .dataframe thead th {\n",
       "        text-align: right;\n",
       "    }\n",
       "</style>\n",
       "<table border=\"1\" class=\"dataframe\">\n",
       "  <thead>\n",
       "    <tr style=\"text-align: right;\">\n",
       "      <th></th>\n",
       "      <th>star_rating</th>\n",
       "      <th>text_review</th>\n",
       "    </tr>\n",
       "  </thead>\n",
       "  <tbody>\n",
       "    <tr>\n",
       "      <th>0</th>\n",
       "      <td>5</td>\n",
       "      <td>Great apps. We can learn AI Online now</td>\n",
       "    </tr>\n",
       "    <tr>\n",
       "      <th>1</th>\n",
       "      <td>5</td>\n",
       "      <td>Sangat bermanfaat. Bisa belajar online sekaran...</td>\n",
       "    </tr>\n",
       "    <tr>\n",
       "      <th>2</th>\n",
       "      <td>5</td>\n",
       "      <td>Aplikasinya bagus dan sangat membantu pembelaj...</td>\n",
       "    </tr>\n",
       "    <tr>\n",
       "      <th>3</th>\n",
       "      <td>5</td>\n",
       "      <td>Great app! Has a very friendly user interface ...</td>\n",
       "    </tr>\n",
       "    <tr>\n",
       "      <th>4</th>\n",
       "      <td>5</td>\n",
       "      <td>sangat bagus untuk para pemula dan yang mau la...</td>\n",
       "    </tr>\n",
       "  </tbody>\n",
       "</table>\n",
       "</div>"
      ],
      "text/plain": [
       "   star_rating                                        text_review\n",
       "0            5             Great apps. We can learn AI Online now\n",
       "1            5  Sangat bermanfaat. Bisa belajar online sekaran...\n",
       "2            5  Aplikasinya bagus dan sangat membantu pembelaj...\n",
       "3            5  Great app! Has a very friendly user interface ...\n",
       "4            5  sangat bagus untuk para pemula dan yang mau la..."
      ]
     },
     "execution_count": 3,
     "metadata": {},
     "output_type": "execute_result"
    }
   ],
   "source": [
    "# mengubah data NaN menjadi 0\n",
    "df.fillna(0).head()"
   ]
  },
  {
   "cell_type": "code",
   "execution_count": 4,
   "id": "7fe28128",
   "metadata": {},
   "outputs": [],
   "source": [
    "# mengubah label star_rating menjadi kategorikal\n",
    "df.star_rating = df.star_rating.map({1:\"Negatif\", 2:\"Negatif\", 3:\"Netral\", 4:\"Positif\", 5:\"Positif\"})"
   ]
  },
  {
   "cell_type": "code",
   "execution_count": 5,
   "id": "a3179236",
   "metadata": {},
   "outputs": [
    {
     "data": {
      "text/html": [
       "<div>\n",
       "<style scoped>\n",
       "    .dataframe tbody tr th:only-of-type {\n",
       "        vertical-align: middle;\n",
       "    }\n",
       "\n",
       "    .dataframe tbody tr th {\n",
       "        vertical-align: top;\n",
       "    }\n",
       "\n",
       "    .dataframe thead th {\n",
       "        text-align: right;\n",
       "    }\n",
       "</style>\n",
       "<table border=\"1\" class=\"dataframe\">\n",
       "  <thead>\n",
       "    <tr style=\"text-align: right;\">\n",
       "      <th></th>\n",
       "      <th>star_rating</th>\n",
       "      <th>text_review</th>\n",
       "    </tr>\n",
       "  </thead>\n",
       "  <tbody>\n",
       "    <tr>\n",
       "      <th>0</th>\n",
       "      <td>Positif</td>\n",
       "      <td>Great apps. We can learn AI Online now</td>\n",
       "    </tr>\n",
       "    <tr>\n",
       "      <th>1</th>\n",
       "      <td>Positif</td>\n",
       "      <td>Sangat bermanfaat. Bisa belajar online sekaran...</td>\n",
       "    </tr>\n",
       "    <tr>\n",
       "      <th>2</th>\n",
       "      <td>Positif</td>\n",
       "      <td>Aplikasinya bagus dan sangat membantu pembelaj...</td>\n",
       "    </tr>\n",
       "    <tr>\n",
       "      <th>3</th>\n",
       "      <td>Positif</td>\n",
       "      <td>Great app! Has a very friendly user interface ...</td>\n",
       "    </tr>\n",
       "    <tr>\n",
       "      <th>4</th>\n",
       "      <td>Positif</td>\n",
       "      <td>sangat bagus untuk para pemula dan yang mau la...</td>\n",
       "    </tr>\n",
       "  </tbody>\n",
       "</table>\n",
       "</div>"
      ],
      "text/plain": [
       "  star_rating                                        text_review\n",
       "0     Positif             Great apps. We can learn AI Online now\n",
       "1     Positif  Sangat bermanfaat. Bisa belajar online sekaran...\n",
       "2     Positif  Aplikasinya bagus dan sangat membantu pembelaj...\n",
       "3     Positif  Great app! Has a very friendly user interface ...\n",
       "4     Positif  sangat bagus untuk para pemula dan yang mau la..."
      ]
     },
     "execution_count": 5,
     "metadata": {},
     "output_type": "execute_result"
    }
   ],
   "source": [
    "df.head()"
   ]
  },
  {
   "cell_type": "code",
   "execution_count": 6,
   "id": "ef941fa3",
   "metadata": {},
   "outputs": [
    {
     "data": {
      "text/plain": [
       "(271, 2)"
      ]
     },
     "execution_count": 6,
     "metadata": {},
     "output_type": "execute_result"
    }
   ],
   "source": [
    "# lihat ukuran\n",
    "df.shape"
   ]
  },
  {
   "cell_type": "markdown",
   "id": "72ce6875",
   "metadata": {},
   "source": [
    "## Visualisasi Distribusi Data"
   ]
  },
  {
   "cell_type": "code",
   "execution_count": 7,
   "id": "55fbfebc",
   "metadata": {},
   "outputs": [
    {
     "name": "stdout",
     "output_type": "stream",
     "text": [
      "Number of rows per label:\n",
      "Positif    251\n",
      "Negatif     15\n",
      "Netral       5\n",
      "Name: star_rating, dtype: int64\n"
     ]
    },
    {
     "data": {
      "image/png": "[encoded data removed]",
      "text/plain": [
       "<Figure size 432x288 with 1 Axes>"
      ]
     },
     "metadata": {
      "needs_background": "light"
     },
     "output_type": "display_data"
    }
   ],
   "source": [
    "import matplotlib.pyplot as plt \n",
    "\n",
    "print(\"Number of rows per label:\")\n",
    "print(df['star_rating'].value_counts())\n",
    "\n",
    "# Plotting the sentiment distribution\n",
    "plt.figure()\n",
    "pd.value_counts(df['star_rating']).plot.bar(title=\"Sentiment distribution in data\")\n",
    "plt.xlabel(\"Sentiment\")\n",
    "plt.ylabel(\"No. of rows in data\")\n",
    "plt.show()"
   ]
  },
  {
   "cell_type": "code",
   "execution_count": 8,
   "id": "a0b3537c",
   "metadata": {},
   "outputs": [
    {
     "data": {
      "text/plain": [
       "star_rating    object\n",
       "text_review    object\n",
       "dtype: object"
      ]
     },
     "execution_count": 8,
     "metadata": {},
     "output_type": "execute_result"
    }
   ],
   "source": [
    "# melihat tipe data\n",
    "df.dtypes"
   ]
  },
  {
   "cell_type": "code",
   "execution_count": 9,
   "id": "09806a65",
   "metadata": {},
   "outputs": [],
   "source": [
    "# mengubah ke dalam format String\n",
    "df['text_review'] = df['text_review'].astype(str)"
   ]
  },
  {
   "cell_type": "markdown",
   "id": "d9779d89",
   "metadata": {},
   "source": [
    "## Split Data"
   ]
  },
  {
   "cell_type": "code",
   "execution_count": 10,
   "id": "fb6ccb74",
   "metadata": {},
   "outputs": [],
   "source": [
    "# Split data menjadi data train dan test\n",
    "from sklearn.model_selection import train_test_split\n",
    "\n",
    "X_train, X_test, y_train, y_test = train_test_split(df.text_review, df.star_rating, test_size=0.4)"
   ]
  },
  {
   "cell_type": "code",
   "execution_count": 11,
   "id": "08d39213",
   "metadata": {},
   "outputs": [
    {
     "data": {
      "text/plain": [
       "(109,)"
      ]
     },
     "execution_count": 11,
     "metadata": {},
     "output_type": "execute_result"
    }
   ],
   "source": [
    "# melihat bentuk data\n",
    "X_test.shape"
   ]
  },
  {
   "cell_type": "markdown",
   "id": "ab5cc67f",
   "metadata": {},
   "source": [
    "## Vektorisasi"
   ]
  },
  {
   "cell_type": "code",
   "execution_count": 12,
   "id": "0d04570f",
   "metadata": {},
   "outputs": [],
   "source": [
    "# Inisiasi vectorizer \n",
    "from sklearn.feature_extraction.text import CountVectorizer\n",
    "\n",
    "vect = CountVectorizer()"
   ]
  },
  {
   "cell_type": "code",
   "execution_count": 13,
   "id": "e7efb7ee",
   "metadata": {},
   "outputs": [],
   "source": [
    "# Pelajari vocabulary dan ubah data train menjadi matriks\n",
    "vect.fit(X_train)\n",
    "\n",
    "X_train_vec = vect.transform(X_train)"
   ]
  },
  {
   "cell_type": "code",
   "execution_count": 14,
   "id": "afb8c857",
   "metadata": {},
   "outputs": [
    {
     "data": {
      "text/plain": [
       "<162x682 sparse matrix of type '<class 'numpy.int64'>'\n",
       "\twith 1706 stored elements in Compressed Sparse Row format>"
      ]
     },
     "execution_count": 14,
     "metadata": {},
     "output_type": "execute_result"
    }
   ],
   "source": [
    "# lihat vektor fitur\n",
    "X_train_vec"
   ]
  },
  {
   "cell_type": "code",
   "execution_count": 15,
   "id": "fb8db9db",
   "metadata": {},
   "outputs": [],
   "source": [
    "# lakukan hal yang sama dengan data testing\n",
    "X_test_vec = vect.transform(X_test)"
   ]
  },
  {
   "cell_type": "markdown",
   "id": "59eac46e",
   "metadata": {},
   "source": [
    "# Modelling\n",
    "## Multinomial Naive Bayes"
   ]
  },
  {
   "cell_type": "code",
   "execution_count": 16,
   "id": "f5cf2829",
   "metadata": {},
   "outputs": [
    {
     "name": "stdout",
     "output_type": "stream",
     "text": [
      "673 µs ± 19.1 µs per loop (mean ± std. dev. of 7 runs, 1000 loops each)\n"
     ]
    }
   ],
   "source": [
    "# import\n",
    "from sklearn.naive_bayes import MultinomialNB\n",
    "\n",
    "# train dengan melihat waktu eksekusi\n",
    "nb = MultinomialNB()\n",
    "%timeit nb.fit(X_train_vec, y_train)"
   ]
  },
  {
   "cell_type": "code",
   "execution_count": 17,
   "id": "321f703b",
   "metadata": {},
   "outputs": [
    {
     "data": {
      "text/plain": [
       "array(['Positif', 'Positif', 'Positif', 'Positif', 'Positif', 'Positif',\n",
       "       'Positif', 'Positif', 'Positif', 'Negatif', 'Positif', 'Positif',\n",
       "       'Positif', 'Positif', 'Positif', 'Positif', 'Positif', 'Positif',\n",
       "       'Positif', 'Positif', 'Positif', 'Positif', 'Positif', 'Positif',\n",
       "       'Positif', 'Positif', 'Positif', 'Positif', 'Positif', 'Positif',\n",
       "       'Positif', 'Positif', 'Positif', 'Positif', 'Positif', 'Negatif',\n",
       "       'Positif', 'Positif', 'Positif', 'Positif', 'Positif', 'Positif',\n",
       "       'Positif', 'Positif', 'Positif', 'Positif', 'Positif', 'Positif',\n",
       "       'Positif', 'Positif', 'Positif', 'Positif', 'Positif', 'Positif',\n",
       "       'Positif', 'Positif', 'Positif', 'Positif', 'Positif', 'Positif',\n",
       "       'Positif', 'Positif', 'Positif', 'Positif', 'Positif', 'Positif',\n",
       "       'Positif', 'Positif', 'Positif', 'Positif', 'Positif', 'Positif',\n",
       "       'Positif', 'Positif', 'Positif', 'Positif', 'Positif', 'Negatif',\n",
       "       'Positif', 'Positif', 'Positif', 'Positif', 'Positif', 'Negatif',\n",
       "       'Positif', 'Positif', 'Positif', 'Positif', 'Positif', 'Positif',\n",
       "       'Positif', 'Positif', 'Positif', 'Positif', 'Positif', 'Positif',\n",
       "       'Positif', 'Positif', 'Positif', 'Positif', 'Positif', 'Positif',\n",
       "       'Positif', 'Positif', 'Positif', 'Positif', 'Positif', 'Positif',\n",
       "       'Positif'], dtype='<U7')"
      ]
     },
     "execution_count": 17,
     "metadata": {},
     "output_type": "execute_result"
    }
   ],
   "source": [
    "# buat prediksi\n",
    "y_pred = nb.predict(X_test_vec)\n",
    "y_pred"
   ]
  },
  {
   "cell_type": "markdown",
   "id": "7f386341",
   "metadata": {},
   "source": [
    "# Evaluasi"
   ]
  },
  {
   "cell_type": "code",
   "execution_count": 18,
   "id": "aad6a3ab",
   "metadata": {},
   "outputs": [
    {
     "name": "stdout",
     "output_type": "stream",
     "text": [
      "              precision    recall  f1-score   support\n",
      "\n",
      "     Negatif       0.50      0.40      0.44         5\n",
      "      Netral       0.00      0.00      0.00         3\n",
      "     Positif       0.95      0.99      0.97       101\n",
      "\n",
      "    accuracy                           0.94       109\n",
      "   macro avg       0.48      0.46      0.47       109\n",
      "weighted avg       0.91      0.94      0.92       109\n",
      "\n"
     ]
    },
    {
     "name": "stderr",
     "output_type": "stream",
     "text": [
      "/Users/abdazzamajhari/opt/anaconda3/lib/python3.8/site-packages/sklearn/metrics/_classification.py:1245: UndefinedMetricWarning: Precision and F-score are ill-defined and being set to 0.0 in labels with no predicted samples. Use `zero_division` parameter to control this behavior.\n",
      "  _warn_prf(average, modifier, msg_start, len(result))\n",
      "/Users/abdazzamajhari/opt/anaconda3/lib/python3.8/site-packages/sklearn/metrics/_classification.py:1245: UndefinedMetricWarning: Precision and F-score are ill-defined and being set to 0.0 in labels with no predicted samples. Use `zero_division` parameter to control this behavior.\n",
      "  _warn_prf(average, modifier, msg_start, len(result))\n",
      "/Users/abdazzamajhari/opt/anaconda3/lib/python3.8/site-packages/sklearn/metrics/_classification.py:1245: UndefinedMetricWarning: Precision and F-score are ill-defined and being set to 0.0 in labels with no predicted samples. Use `zero_division` parameter to control this behavior.\n",
      "  _warn_prf(average, modifier, msg_start, len(result))\n"
     ]
    }
   ],
   "source": [
    "# tampilkan hasil evaluasi model\n",
    "from sklearn.metrics import classification_report\n",
    "\n",
    "print(classification_report(y_test, y_pred))"
   ]
  },
  {
   "cell_type": "markdown",
   "id": "cffd5940",
   "metadata": {},
   "source": [
    "## Prediksi"
   ]
  },
  {
   "cell_type": "code",
   "execution_count": 28,
   "id": "f7dfadce",
   "metadata": {},
   "outputs": [],
   "source": [
    "# coba tes\n",
    "new_tes = [\"wah aplikasinya keren\", \"jelek\"]"
   ]
  },
  {
   "cell_type": "code",
   "execution_count": 29,
   "id": "50b75050",
   "metadata": {},
   "outputs": [],
   "source": [
    "new_tes_vect = vect.transform(new_tes)"
   ]
  },
  {
   "cell_type": "code",
   "execution_count": 30,
   "id": "aa40750f",
   "metadata": {},
   "outputs": [
    {
     "name": "stdout",
     "output_type": "stream",
     "text": [
      "['Positif' 'Positif']\n"
     ]
    }
   ],
   "source": [
    "hasil = nb.predict(new_tes_vect)\n",
    "\n",
    "print(hasil)"
   ]
  },
  {
   "cell_type": "code",
   "execution_count": null,
   "id": "8acc24fd",
   "metadata": {},
   "outputs": [],
   "source": []
  }
 ],
 "metadata": {
  "kernelspec": {
   "display_name": "Python 3",
   "language": "python",
   "name": "python3"
  },
  "language_info": {
   "codemirror_mode": {
    "name": "ipython",
    "version": 3
   },
   "file_extension": ".py",
   "mimetype": "text/x-python",
   "name": "python",
   "nbconvert_exporter": "python",
   "pygments_lexer": "ipython3",
   "version": "3.8.8"
  }
 },
 "nbformat": 4,
 "nbformat_minor": 5
}
